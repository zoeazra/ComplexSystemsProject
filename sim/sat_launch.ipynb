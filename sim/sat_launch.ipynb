{
 "cells": [
  {
   "cell_type": "code",
   "execution_count": 1,
   "metadata": {},
   "outputs": [
    {
     "data": {
      "text/html": [
       "<div id=\"glowscript\" class=\"glowscript\"></div>"
      ],
      "text/plain": [
       "<IPython.core.display.HTML object>"
      ]
     },
     "metadata": {},
     "output_type": "display_data"
    },
    {
     "data": {
      "application/javascript": "if (typeof Jupyter !== \"undefined\") { window.__context = { glowscript_container: $(\"#glowscript\").removeAttr(\"id\")};}else{ element.textContent = ' ';}",
      "text/plain": [
       "<IPython.core.display.Javascript object>"
      ]
     },
     "metadata": {},
     "output_type": "display_data"
    },
    {
     "name": "stdout",
     "output_type": "stream",
     "text": [
      "DATA CLEAN fully OBJECT Columns: ['EPOCH', 'INCLINATION', 'RA_OF_ASC_NODE', 'ARG_OF_PERICENTER', 'MEAN_ANOMALY', 'NORAD_CAT_ID', 'SEMIMAJOR_AXIS', 'OBJECT_TYPE', 'RCS_SIZE', 'LAUNCH_DATE', 'tuples', 'rotation_matrix', 'groups', 'object_bool']\n"
     ]
    }
   ],
   "source": [
    "import sys\n",
    "import numpy as np\n",
    "from tqdm import tqdm\n",
    "import csv\n",
    "import random\n",
    "import matplotlib.pyplot as plt\n",
    "from model import *\n",
    "from view import View\n",
    "from data_cleaning import all_groups, data_array"
   ]
  },
  {
   "cell_type": "code",
   "execution_count": 4,
   "metadata": {},
   "outputs": [
    {
     "name": "stderr",
     "output_type": "stream",
     "text": [
      "group: 1:   0%|                                                           | 0/20000 [00:00<?, ?it/s]\n"
     ]
    },
    {
     "ename": "TypingError",
     "evalue": "Failed in nopython mode pipeline (step: nopython frontend)\nNo implementation of function Function(<built-in function getitem>) found for signature:\n \n >>> getitem(float64, Literal[int](0))\n \nThere are 22 candidate implementations:\n    - Of which 22 did not match due to:\n    Overload of function 'getitem': File: <numerous>: Line N/A.\n      With argument(s): '(float64, int64)':\n     No match.\n\nDuring: typing of intrinsic-call at /Users/zoeazra/Documents/CLS/Y1/Complex System Simulations/Github/ComplexSystemsProject/sim/model.py (175)\nDuring: typing of static-get-item at /Users/zoeazra/Documents/CLS/Y1/Complex System Simulations/Github/ComplexSystemsProject/sim/model.py (175)\n\nFile \"model.py\", line 175:\ndef calc_all_positions(\n    <source elided>\n            time,\n            epoch=objects[i][0],\n            ^\n\nDuring: Pass nopython_type_inference",
     "output_type": "error",
     "traceback": [
      "\u001b[0;31m---------------------------------------------------------------------------\u001b[0m",
      "\u001b[0;31mTypingError\u001b[0m                               Traceback (most recent call last)",
      "Cell \u001b[0;32mIn[4], line 88\u001b[0m\n\u001b[1;32m     86\u001b[0m \u001b[38;5;28;01mfor\u001b[39;00m satellites_to_launch \u001b[38;5;129;01min\u001b[39;00m \u001b[38;5;28mrange\u001b[39m(\u001b[38;5;241m0\u001b[39m, \u001b[38;5;241m500\u001b[39m, \u001b[38;5;241m50\u001b[39m):  \u001b[38;5;66;03m# Incrementally add satellites\u001b[39;00m\n\u001b[1;32m     87\u001b[0m     test_objects \u001b[38;5;241m=\u001b[39m objects[:satellites_to_launch]\n\u001b[0;32m---> 88\u001b[0m     _, collisions, _ \u001b[38;5;241m=\u001b[39m \u001b[43mrun_sim\u001b[49m\u001b[43m(\u001b[49m\n\u001b[1;32m     89\u001b[0m \u001b[43m        \u001b[49m\u001b[43mobjects\u001b[49m\u001b[38;5;241;43m=\u001b[39;49m\u001b[43mtest_objects\u001b[49m\u001b[43m,\u001b[49m\n\u001b[1;32m     90\u001b[0m \u001b[43m        \u001b[49m\u001b[43mgroup\u001b[49m\u001b[38;5;241;43m=\u001b[39;49m\u001b[43mgroup\u001b[49m\u001b[43m,\u001b[49m\n\u001b[1;32m     91\u001b[0m \u001b[43m        \u001b[49m\u001b[43mdraw\u001b[49m\u001b[38;5;241;43m=\u001b[39;49m\u001b[43mdraw\u001b[49m\u001b[43m,\u001b[49m\n\u001b[1;32m     92\u001b[0m \u001b[43m        \u001b[49m\u001b[43mmargin\u001b[49m\u001b[38;5;241;43m=\u001b[39;49m\u001b[38;5;241;43m5000\u001b[39;49m\u001b[43m,\u001b[49m\n\u001b[1;32m     93\u001b[0m \u001b[43m        \u001b[49m\u001b[43mendtime\u001b[49m\u001b[38;5;241;43m=\u001b[39;49m\u001b[38;5;241;43m100_000\u001b[39;49m\u001b[43m,\u001b[49m\n\u001b[1;32m     94\u001b[0m \u001b[43m        \u001b[49m\u001b[43mtimestep\u001b[49m\u001b[38;5;241;43m=\u001b[39;49m\u001b[38;5;241;43m5\u001b[39;49m\u001b[43m,\u001b[49m\n\u001b[1;32m     95\u001b[0m \u001b[43m        \u001b[49m\u001b[43mepoch\u001b[49m\u001b[38;5;241;43m=\u001b[39;49m\u001b[38;5;241;43m1675209600.0\u001b[39;49m\u001b[43m,\u001b[49m\n\u001b[1;32m     96\u001b[0m \u001b[43m        \u001b[49m\u001b[43mprobability\u001b[49m\u001b[38;5;241;43m=\u001b[39;49m\u001b[38;5;241;43m0\u001b[39;49m\u001b[43m,\u001b[49m\n\u001b[1;32m     97\u001b[0m \u001b[43m        \u001b[49m\u001b[43mpercentage\u001b[49m\u001b[38;5;241;43m=\u001b[39;49m\u001b[38;5;241;43m0\u001b[39;49m\u001b[43m,\u001b[49m\n\u001b[1;32m     98\u001b[0m \u001b[43m        \u001b[49m\u001b[43mfrequency_new_debris\u001b[49m\u001b[38;5;241;43m=\u001b[39;49m\u001b[38;5;241;43m40\u001b[39;49m\u001b[43m,\u001b[49m\n\u001b[1;32m     99\u001b[0m \u001b[43m        \u001b[49m\u001b[43mdebris_start_time\u001b[49m\u001b[38;5;241;43m=\u001b[39;49m\u001b[43mdebris_start_time\u001b[49m\u001b[43m,\u001b[49m\n\u001b[1;32m    100\u001b[0m \u001b[43m    \u001b[49m\u001b[43m)\u001b[49m\n\u001b[1;32m    101\u001b[0m     num_satellites_launched\u001b[38;5;241m.\u001b[39mappend(satellites_to_launch)\n\u001b[1;32m    102\u001b[0m     total_collisions\u001b[38;5;241m.\u001b[39mappend(\u001b[38;5;28mlen\u001b[39m(collisions))\n",
      "Cell \u001b[0;32mIn[4], line 39\u001b[0m, in \u001b[0;36mrun_sim\u001b[0;34m(objects, group, draw, margin, endtime, timestep, epoch, probability, percentage, frequency_new_debris, debris_start_time)\u001b[0m\n\u001b[1;32m     32\u001b[0m parameters, collisions, collision_times \u001b[38;5;241m=\u001b[39m [], [], []\n\u001b[1;32m     34\u001b[0m \u001b[38;5;28;01mfor\u001b[39;00m time \u001b[38;5;129;01min\u001b[39;00m tqdm(\n\u001b[1;32m     35\u001b[0m     \u001b[38;5;28mrange\u001b[39m(\u001b[38;5;28mint\u001b[39m(epoch), \u001b[38;5;28mint\u001b[39m(epoch \u001b[38;5;241m+\u001b[39m endtime), timestep),\n\u001b[1;32m     36\u001b[0m     ncols\u001b[38;5;241m=\u001b[39m\u001b[38;5;241m100\u001b[39m,\n\u001b[1;32m     37\u001b[0m     desc\u001b[38;5;241m=\u001b[39m\u001b[38;5;124mf\u001b[39m\u001b[38;5;124m\"\u001b[39m\u001b[38;5;124mgroup: \u001b[39m\u001b[38;5;132;01m{\u001b[39;00mgroup\u001b[38;5;132;01m}\u001b[39;00m\u001b[38;5;124m\"\u001b[39m,\n\u001b[1;32m     38\u001b[0m ):\n\u001b[0;32m---> 39\u001b[0m     \u001b[43mcalc_all_positions\u001b[49m\u001b[43m(\u001b[49m\u001b[43mobjects_fast\u001b[49m\u001b[43m,\u001b[49m\u001b[43m \u001b[49m\u001b[43mmatrices\u001b[49m\u001b[43m,\u001b[49m\u001b[43m \u001b[49m\u001b[43mtime\u001b[49m\u001b[43m)\u001b[49m\n\u001b[1;32m     40\u001b[0m     collision_pairs \u001b[38;5;241m=\u001b[39m check_collisions_optimized(objects_fast, margin)\n\u001b[1;32m     41\u001b[0m     \u001b[38;5;28;01mif\u001b[39;00m collision_pairs:\n",
      "File \u001b[0;32m~/Documents/CLS/Y1/Complex System Simulations/Github/ComplexSystemsProject/.venv/lib/python3.13/site-packages/numba/core/dispatcher.py:424\u001b[0m, in \u001b[0;36m_DispatcherBase._compile_for_args\u001b[0;34m(self, *args, **kws)\u001b[0m\n\u001b[1;32m    420\u001b[0m         msg \u001b[38;5;241m=\u001b[39m (\u001b[38;5;124mf\u001b[39m\u001b[38;5;124m\"\u001b[39m\u001b[38;5;132;01m{\u001b[39;00m\u001b[38;5;28mstr\u001b[39m(e)\u001b[38;5;241m.\u001b[39mrstrip()\u001b[38;5;132;01m}\u001b[39;00m\u001b[38;5;124m \u001b[39m\u001b[38;5;130;01m\\n\u001b[39;00m\u001b[38;5;130;01m\\n\u001b[39;00m\u001b[38;5;124mThis error may have been caused \u001b[39m\u001b[38;5;124m\"\u001b[39m\n\u001b[1;32m    421\u001b[0m                \u001b[38;5;124mf\u001b[39m\u001b[38;5;124m\"\u001b[39m\u001b[38;5;124mby the following argument(s):\u001b[39m\u001b[38;5;130;01m\\n\u001b[39;00m\u001b[38;5;132;01m{\u001b[39;00margs_str\u001b[38;5;132;01m}\u001b[39;00m\u001b[38;5;130;01m\\n\u001b[39;00m\u001b[38;5;124m\"\u001b[39m)\n\u001b[1;32m    422\u001b[0m         e\u001b[38;5;241m.\u001b[39mpatch_message(msg)\n\u001b[0;32m--> 424\u001b[0m     \u001b[43merror_rewrite\u001b[49m\u001b[43m(\u001b[49m\u001b[43me\u001b[49m\u001b[43m,\u001b[49m\u001b[43m \u001b[49m\u001b[38;5;124;43m'\u001b[39;49m\u001b[38;5;124;43mtyping\u001b[39;49m\u001b[38;5;124;43m'\u001b[39;49m\u001b[43m)\u001b[49m\n\u001b[1;32m    425\u001b[0m \u001b[38;5;28;01mexcept\u001b[39;00m errors\u001b[38;5;241m.\u001b[39mUnsupportedError \u001b[38;5;28;01mas\u001b[39;00m e:\n\u001b[1;32m    426\u001b[0m     \u001b[38;5;66;03m# Something unsupported is present in the user code, add help info\u001b[39;00m\n\u001b[1;32m    427\u001b[0m     error_rewrite(e, \u001b[38;5;124m'\u001b[39m\u001b[38;5;124munsupported_error\u001b[39m\u001b[38;5;124m'\u001b[39m)\n",
      "File \u001b[0;32m~/Documents/CLS/Y1/Complex System Simulations/Github/ComplexSystemsProject/.venv/lib/python3.13/site-packages/numba/core/dispatcher.py:365\u001b[0m, in \u001b[0;36m_DispatcherBase._compile_for_args.<locals>.error_rewrite\u001b[0;34m(e, issue_type)\u001b[0m\n\u001b[1;32m    363\u001b[0m     \u001b[38;5;28;01mraise\u001b[39;00m e\n\u001b[1;32m    364\u001b[0m \u001b[38;5;28;01melse\u001b[39;00m:\n\u001b[0;32m--> 365\u001b[0m     \u001b[38;5;28;01mraise\u001b[39;00m e\u001b[38;5;241m.\u001b[39mwith_traceback(\u001b[38;5;28;01mNone\u001b[39;00m)\n",
      "\u001b[0;31mTypingError\u001b[0m: Failed in nopython mode pipeline (step: nopython frontend)\nNo implementation of function Function(<built-in function getitem>) found for signature:\n \n >>> getitem(float64, Literal[int](0))\n \nThere are 22 candidate implementations:\n    - Of which 22 did not match due to:\n    Overload of function 'getitem': File: <numerous>: Line N/A.\n      With argument(s): '(float64, int64)':\n     No match.\n\nDuring: typing of intrinsic-call at /Users/zoeazra/Documents/CLS/Y1/Complex System Simulations/Github/ComplexSystemsProject/sim/model.py (175)\nDuring: typing of static-get-item at /Users/zoeazra/Documents/CLS/Y1/Complex System Simulations/Github/ComplexSystemsProject/sim/model.py (175)\n\nFile \"model.py\", line 175:\ndef calc_all_positions(\n    <source elided>\n            time,\n            epoch=objects[i][0],\n            ^\n\nDuring: Pass nopython_type_inference"
     ]
    }
   ],
   "source": [
    "import numpy as np\n",
    "from tqdm import tqdm\n",
    "import matplotlib.pyplot as plt\n",
    "from model import *\n",
    "from data_cleaning import all_groups, data_array\n",
    "\n",
    "# Function to prepare fast arrays for Numba\n",
    "def fast_arr(objects: np.ndarray):\n",
    "    return np.array(\n",
    "        [[object[0], object[4], object[6], object[13], 0, 0, 0] for object in objects]\n",
    "    )\n",
    "\n",
    "# Simulation function\n",
    "def run_sim(\n",
    "    objects: np.ndarray,\n",
    "    group: int,\n",
    "    draw: bool,\n",
    "    margin: float,\n",
    "    endtime: float,\n",
    "    timestep: float,\n",
    "    epoch: float,\n",
    "    probability: float,\n",
    "    percentage: float,\n",
    "    frequency_new_debris: int,\n",
    "    debris_start_time: float,\n",
    ") -> tuple[list, list, list]:\n",
    "    objects = objects[:99]\n",
    "    initialize_positions(objects, epoch)\n",
    "    objects_fast = fast_arr(objects)\n",
    "    matrices = np.array([object[11] for object in objects])\n",
    "\n",
    "    parameters, collisions, collision_times = [], [], []\n",
    "\n",
    "    for time in tqdm(\n",
    "        range(int(epoch), int(epoch + endtime), timestep),\n",
    "        ncols=100,\n",
    "        desc=f\"group: {group}\",\n",
    "    ):\n",
    "        calc_all_positions(objects_fast, matrices, time)\n",
    "        collision_pairs = check_collisions_optimized(objects_fast, margin)\n",
    "        if collision_pairs:\n",
    "            for collided_objects in collision_pairs:\n",
    "                _, _, object1, object2 = collided_objects\n",
    "                collisions.append([object1, object2, time])\n",
    "                collision_times.append(time)\n",
    "\n",
    "        if (\n",
    "            time >= debris_start_time\n",
    "            and frequency_new_debris is not None\n",
    "            and (time - epoch) % (frequency_new_debris * timestep) == 0\n",
    "        ):\n",
    "            objects_fast, matrices, _ = random_debris(\n",
    "                objects_fast, matrices, time, percentage\n",
    "            )\n",
    "\n",
    "    parameters.append(\n",
    "        [objects[0][12], epoch, endtime, timestep, probability, percentage]\n",
    "    )\n",
    "    return parameters, collisions, collision_times\n",
    "\n",
    "# Function to plot launched satellites vs collisions\n",
    "def plot_satellites_vs_collisions(launched, collisions):\n",
    "    plt.figure(figsize=(10, 6))\n",
    "    plt.plot(launched, collisions, marker=\"o\", linestyle=\"-\")\n",
    "    plt.xlabel(\"Number of Satellites Launched\")\n",
    "    plt.ylabel(\"Total Collisions\")\n",
    "    plt.title(\"Number of Satellites Launched vs Total Collisions\")\n",
    "    plt.grid(True)\n",
    "    plt.savefig(\"satellites_vs_collisions.png\")\n",
    "    plt.show()\n",
    "\n",
    "if __name__ == \"__main__\":\n",
    "    dataset_name = \"Satellites\"\n",
    "    debris_start_time = 1675269600.0\n",
    "\n",
    "    group = all_groups[0]  # Select the first group for simplicity\n",
    "    group_selection = data_array[:, 12] == group\n",
    "    data_array_group = data_array[group_selection]\n",
    "    objects = data_array_group\n",
    "\n",
    "    draw = False\n",
    "\n",
    "    num_satellites_launched = []\n",
    "    total_collisions = []\n",
    "\n",
    "    for satellites_to_launch in range(0, 500, 50): \n",
    "        test_objects = objects[:satellites_to_launch]\n",
    "        _, collisions, _ = run_sim(\n",
    "            objects=test_objects,\n",
    "            group=group,\n",
    "            draw=draw,\n",
    "            margin=5000,\n",
    "            endtime=100_000,\n",
    "            timestep=5,\n",
    "            epoch=1675209600.0,\n",
    "            probability=0,\n",
    "            percentage=0,\n",
    "            frequency_new_debris=40,\n",
    "            debris_start_time=debris_start_time,\n",
    "        )\n",
    "        num_satellites_launched.append(satellites_to_launch)\n",
    "        total_collisions.append(len(collisions))\n",
    "\n",
    "    # Plot results\n",
    "    plot_satellites_vs_collisions(num_satellites_launched, total_collisions)\n"
   ]
  },
  {
   "cell_type": "code",
   "execution_count": 5,
   "metadata": {},
   "outputs": [
    {
     "name": "stdout",
     "output_type": "stream",
     "text": [
      "DATA CLEAN fully OBJECT Columns: ['EPOCH', 'INCLINATION', 'RA_OF_ASC_NODE', 'ARG_OF_PERICENTER', 'MEAN_ANOMALY', 'NORAD_CAT_ID', 'SEMIMAJOR_AXIS', 'OBJECT_TYPE', 'RCS_SIZE', 'LAUNCH_DATE', 'tuples', 'rotation_matrix', 'groups', 'object_bool']\n"
     ]
    },
    {
     "name": "stderr",
     "output_type": "stream",
     "text": [
      "group: 1:   0%|                                                           | 0/20000 [00:00<?, ?it/s]\n"
     ]
    },
    {
     "ename": "TypingError",
     "evalue": "Failed in nopython mode pipeline (step: nopython frontend)\nNo implementation of function Function(<built-in function getitem>) found for signature:\n \n >>> getitem(float64, Literal[int](0))\n \nThere are 22 candidate implementations:\n    - Of which 22 did not match due to:\n    Overload of function 'getitem': File: <numerous>: Line N/A.\n      With argument(s): '(float64, int64)':\n     No match.\n\nDuring: typing of intrinsic-call at /Users/zoeazra/Documents/CLS/Y1/Complex System Simulations/Github/ComplexSystemsProject/sim/model.py (175)\nDuring: typing of static-get-item at /Users/zoeazra/Documents/CLS/Y1/Complex System Simulations/Github/ComplexSystemsProject/sim/model.py (175)\n\nFile \"model.py\", line 175:\ndef calc_all_positions(\n    <source elided>\n            time,\n            epoch=objects[i][0],\n            ^\n\nDuring: Pass nopython_type_inference",
     "output_type": "error",
     "traceback": [
      "\u001b[0;31m---------------------------------------------------------------------------\u001b[0m",
      "\u001b[0;31mTypingError\u001b[0m                               Traceback (most recent call last)",
      "Cell \u001b[0;32mIn[5], line 39\u001b[0m\n\u001b[1;32m     36\u001b[0m objects \u001b[38;5;241m=\u001b[39m data_array_group[:satellites_to_launch]\n\u001b[1;32m     38\u001b[0m \u001b[38;5;66;03m# Run the simulation using main.run_sim\u001b[39;00m\n\u001b[0;32m---> 39\u001b[0m _, collisions, _ \u001b[38;5;241m=\u001b[39m \u001b[43mmain\u001b[49m\u001b[38;5;241;43m.\u001b[39;49m\u001b[43mrun_sim\u001b[49m\u001b[43m(\u001b[49m\n\u001b[1;32m     40\u001b[0m \u001b[43m    \u001b[49m\u001b[43mobjects\u001b[49m\u001b[38;5;241;43m=\u001b[39;49m\u001b[43mobjects\u001b[49m\u001b[43m,\u001b[49m\n\u001b[1;32m     41\u001b[0m \u001b[43m    \u001b[49m\u001b[43mgroup\u001b[49m\u001b[38;5;241;43m=\u001b[39;49m\u001b[43mgroup\u001b[49m\u001b[43m,\u001b[49m\n\u001b[1;32m     42\u001b[0m \u001b[43m    \u001b[49m\u001b[43mdraw\u001b[49m\u001b[38;5;241;43m=\u001b[39;49m\u001b[38;5;28;43;01mFalse\u001b[39;49;00m\u001b[43m,\u001b[49m\n\u001b[1;32m     43\u001b[0m \u001b[43m    \u001b[49m\u001b[43mmargin\u001b[49m\u001b[38;5;241;43m=\u001b[39;49m\u001b[43mmargin\u001b[49m\u001b[43m,\u001b[49m\n\u001b[1;32m     44\u001b[0m \u001b[43m    \u001b[49m\u001b[43mendtime\u001b[49m\u001b[38;5;241;43m=\u001b[39;49m\u001b[43mendtime\u001b[49m\u001b[43m,\u001b[49m\n\u001b[1;32m     45\u001b[0m \u001b[43m    \u001b[49m\u001b[43mtimestep\u001b[49m\u001b[38;5;241;43m=\u001b[39;49m\u001b[43mtimestep\u001b[49m\u001b[43m,\u001b[49m\n\u001b[1;32m     46\u001b[0m \u001b[43m    \u001b[49m\u001b[43mepoch\u001b[49m\u001b[38;5;241;43m=\u001b[39;49m\u001b[43mepoch\u001b[49m\u001b[43m,\u001b[49m\n\u001b[1;32m     47\u001b[0m \u001b[43m    \u001b[49m\u001b[43mprobability\u001b[49m\u001b[38;5;241;43m=\u001b[39;49m\u001b[43mprobability\u001b[49m\u001b[43m,\u001b[49m\n\u001b[1;32m     48\u001b[0m \u001b[43m    \u001b[49m\u001b[43mpercentage\u001b[49m\u001b[38;5;241;43m=\u001b[39;49m\u001b[43mpercentage\u001b[49m\u001b[43m,\u001b[49m\n\u001b[1;32m     49\u001b[0m \u001b[43m    \u001b[49m\u001b[43mfrequency_new_debris\u001b[49m\u001b[38;5;241;43m=\u001b[39;49m\u001b[43mfrequency_new_debris\u001b[49m\u001b[43m,\u001b[49m\n\u001b[1;32m     50\u001b[0m \u001b[43m\u001b[49m\u001b[43m)\u001b[49m\n\u001b[1;32m     52\u001b[0m \u001b[38;5;66;03m# Log the results for plotting\u001b[39;00m\n\u001b[1;32m     53\u001b[0m num_satellites_launched\u001b[38;5;241m.\u001b[39mappend(\u001b[38;5;28mlen\u001b[39m(objects))\n",
      "File \u001b[0;32m~/Documents/CLS/Y1/Complex System Simulations/Github/ComplexSystemsProject/sim/main.py:92\u001b[0m, in \u001b[0;36mrun_sim\u001b[0;34m(objects, group, draw, margin, endtime, timestep, epoch, probability, percentage, frequency_new_debris)\u001b[0m\n\u001b[1;32m     85\u001b[0m parameters, collisions, added_debris \u001b[38;5;241m=\u001b[39m [], [], []\n\u001b[1;32m     87\u001b[0m \u001b[38;5;28;01mfor\u001b[39;00m time \u001b[38;5;129;01min\u001b[39;00m tqdm(\n\u001b[1;32m     88\u001b[0m     \u001b[38;5;28mrange\u001b[39m(\u001b[38;5;28mint\u001b[39m(epoch), \u001b[38;5;28mint\u001b[39m(epoch \u001b[38;5;241m+\u001b[39m endtime), timestep),\n\u001b[1;32m     89\u001b[0m     ncols\u001b[38;5;241m=\u001b[39m\u001b[38;5;241m100\u001b[39m,\n\u001b[1;32m     90\u001b[0m     desc\u001b[38;5;241m=\u001b[39m\u001b[38;5;124mf\u001b[39m\u001b[38;5;124m\"\u001b[39m\u001b[38;5;124mgroup: \u001b[39m\u001b[38;5;132;01m{\u001b[39;00mgroup\u001b[38;5;132;01m}\u001b[39;00m\u001b[38;5;124m\"\u001b[39m,  \u001b[38;5;66;03m# tqdm for the progress bar.\u001b[39;00m\n\u001b[1;32m     91\u001b[0m ):\n\u001b[0;32m---> 92\u001b[0m     \u001b[43mcalc_all_positions\u001b[49m\u001b[43m(\u001b[49m\u001b[43mobjects_fast\u001b[49m\u001b[43m,\u001b[49m\u001b[43m \u001b[49m\u001b[43mmatrices\u001b[49m\u001b[43m,\u001b[49m\u001b[43m \u001b[49m\u001b[43mtime\u001b[49m\u001b[43m)\u001b[49m\n\u001b[1;32m     94\u001b[0m     \u001b[38;5;28;01mif\u001b[39;00m \u001b[38;5;28mlen\u001b[39m(objects_fast) \u001b[38;5;241m>\u001b[39m \u001b[38;5;241m1500000\u001b[39m:\n\u001b[1;32m     95\u001b[0m         \u001b[38;5;28mprint\u001b[39m(\u001b[38;5;124mf\u001b[39m\u001b[38;5;124m\"\u001b[39m\u001b[38;5;130;01m\\n\u001b[39;00m\u001b[38;5;124mGroup \u001b[39m\u001b[38;5;132;01m{\u001b[39;00mgroup\u001b[38;5;132;01m}\u001b[39;00m\u001b[38;5;124m process killed.\u001b[39m\u001b[38;5;124m\"\u001b[39m)\n",
      "File \u001b[0;32m~/Documents/CLS/Y1/Complex System Simulations/Github/ComplexSystemsProject/.venv/lib/python3.13/site-packages/numba/core/dispatcher.py:424\u001b[0m, in \u001b[0;36m_DispatcherBase._compile_for_args\u001b[0;34m(self, *args, **kws)\u001b[0m\n\u001b[1;32m    420\u001b[0m         msg \u001b[38;5;241m=\u001b[39m (\u001b[38;5;124mf\u001b[39m\u001b[38;5;124m\"\u001b[39m\u001b[38;5;132;01m{\u001b[39;00m\u001b[38;5;28mstr\u001b[39m(e)\u001b[38;5;241m.\u001b[39mrstrip()\u001b[38;5;132;01m}\u001b[39;00m\u001b[38;5;124m \u001b[39m\u001b[38;5;130;01m\\n\u001b[39;00m\u001b[38;5;130;01m\\n\u001b[39;00m\u001b[38;5;124mThis error may have been caused \u001b[39m\u001b[38;5;124m\"\u001b[39m\n\u001b[1;32m    421\u001b[0m                \u001b[38;5;124mf\u001b[39m\u001b[38;5;124m\"\u001b[39m\u001b[38;5;124mby the following argument(s):\u001b[39m\u001b[38;5;130;01m\\n\u001b[39;00m\u001b[38;5;132;01m{\u001b[39;00margs_str\u001b[38;5;132;01m}\u001b[39;00m\u001b[38;5;130;01m\\n\u001b[39;00m\u001b[38;5;124m\"\u001b[39m)\n\u001b[1;32m    422\u001b[0m         e\u001b[38;5;241m.\u001b[39mpatch_message(msg)\n\u001b[0;32m--> 424\u001b[0m     \u001b[43merror_rewrite\u001b[49m\u001b[43m(\u001b[49m\u001b[43me\u001b[49m\u001b[43m,\u001b[49m\u001b[43m \u001b[49m\u001b[38;5;124;43m'\u001b[39;49m\u001b[38;5;124;43mtyping\u001b[39;49m\u001b[38;5;124;43m'\u001b[39;49m\u001b[43m)\u001b[49m\n\u001b[1;32m    425\u001b[0m \u001b[38;5;28;01mexcept\u001b[39;00m errors\u001b[38;5;241m.\u001b[39mUnsupportedError \u001b[38;5;28;01mas\u001b[39;00m e:\n\u001b[1;32m    426\u001b[0m     \u001b[38;5;66;03m# Something unsupported is present in the user code, add help info\u001b[39;00m\n\u001b[1;32m    427\u001b[0m     error_rewrite(e, \u001b[38;5;124m'\u001b[39m\u001b[38;5;124munsupported_error\u001b[39m\u001b[38;5;124m'\u001b[39m)\n",
      "File \u001b[0;32m~/Documents/CLS/Y1/Complex System Simulations/Github/ComplexSystemsProject/.venv/lib/python3.13/site-packages/numba/core/dispatcher.py:365\u001b[0m, in \u001b[0;36m_DispatcherBase._compile_for_args.<locals>.error_rewrite\u001b[0;34m(e, issue_type)\u001b[0m\n\u001b[1;32m    363\u001b[0m     \u001b[38;5;28;01mraise\u001b[39;00m e\n\u001b[1;32m    364\u001b[0m \u001b[38;5;28;01melse\u001b[39;00m:\n\u001b[0;32m--> 365\u001b[0m     \u001b[38;5;28;01mraise\u001b[39;00m e\u001b[38;5;241m.\u001b[39mwith_traceback(\u001b[38;5;28;01mNone\u001b[39;00m)\n",
      "\u001b[0;31mTypingError\u001b[0m: Failed in nopython mode pipeline (step: nopython frontend)\nNo implementation of function Function(<built-in function getitem>) found for signature:\n \n >>> getitem(float64, Literal[int](0))\n \nThere are 22 candidate implementations:\n    - Of which 22 did not match due to:\n    Overload of function 'getitem': File: <numerous>: Line N/A.\n      With argument(s): '(float64, int64)':\n     No match.\n\nDuring: typing of intrinsic-call at /Users/zoeazra/Documents/CLS/Y1/Complex System Simulations/Github/ComplexSystemsProject/sim/model.py (175)\nDuring: typing of static-get-item at /Users/zoeazra/Documents/CLS/Y1/Complex System Simulations/Github/ComplexSystemsProject/sim/model.py (175)\n\nFile \"model.py\", line 175:\ndef calc_all_positions(\n    <source elided>\n            time,\n            epoch=objects[i][0],\n            ^\n\nDuring: Pass nopython_type_inference"
     ]
    }
   ],
   "source": [
    "import numpy as np\n",
    "import matplotlib.pyplot as plt\n",
    "from importlib import reload\n",
    "import main\n",
    "import data_cleaning\n",
    "\n",
    "# Reload the modules to ensure the latest changes are picked up\n",
    "reload(main)\n",
    "reload(data_cleaning)\n",
    "\n",
    "# Get data and groups from data_cleaning\n",
    "data_array = data_cleaning.data_array\n",
    "all_groups = data_cleaning.all_groups\n",
    "\n",
    "# Select a group to run the simulation\n",
    "group = all_groups[0]  # Replace with the desired group number if needed\n",
    "group_selection = data_array[:, 12] == group\n",
    "data_array_group = data_array[group_selection]\n",
    "\n",
    "# Define simulation parameters (match those in main.py)\n",
    "margin = 5000\n",
    "endtime = 100_000\n",
    "timestep = 5\n",
    "epoch = 1675209600.0\n",
    "probability = 0\n",
    "percentage = 0\n",
    "frequency_new_debris = 40\n",
    "\n",
    "# Initialize data for plotting\n",
    "num_satellites_launched = []\n",
    "total_collisions = []\n",
    "\n",
    "# Run the simulation with satellite launches\n",
    "for satellites_to_launch in range(0, len(data_array_group), 50):  # Step by 50\n",
    "    # Select a subset of satellites to simulate\n",
    "    objects = data_array_group[:satellites_to_launch]\n",
    "\n",
    "    # Run the simulation using main.run_sim\n",
    "    _, collisions, _ = main.run_sim(\n",
    "        objects=objects,\n",
    "        group=group,\n",
    "        draw=False,\n",
    "        margin=margin,\n",
    "        endtime=endtime,\n",
    "        timestep=timestep,\n",
    "        epoch=epoch,\n",
    "        probability=probability,\n",
    "        percentage=percentage,\n",
    "        frequency_new_debris=frequency_new_debris,\n",
    "    )\n",
    "\n",
    "    # Log the results for plotting\n",
    "    num_satellites_launched.append(len(objects))\n",
    "    total_collisions.append(len(collisions))\n",
    "\n",
    "# Create the plot\n",
    "plt.figure(figsize=(10, 6))\n",
    "plt.plot(num_satellites_launched, total_collisions, marker=\"o\", linestyle=\"-\")\n",
    "plt.xlabel(\"Number of Satellites Launched\")\n",
    "plt.ylabel(\"Total Collisions\")\n",
    "plt.title(\"Number of Satellites Launched vs Total Collisions\")\n",
    "plt.grid(True)\n",
    "plt.savefig(\"satellites_vs_collisions.png\")\n",
    "plt.show()\n",
    "\n",
    "print(\"Plot saved as 'satellites_vs_collisions.png'.\")\n"
   ]
  }
 ],
 "metadata": {
  "kernelspec": {
   "display_name": ".venv",
   "language": "python",
   "name": "python3"
  },
  "language_info": {
   "codemirror_mode": {
    "name": "ipython",
    "version": 3
   },
   "file_extension": ".py",
   "mimetype": "text/x-python",
   "name": "python",
   "nbconvert_exporter": "python",
   "pygments_lexer": "ipython3",
   "version": "3.13.1"
  }
 },
 "nbformat": 4,
 "nbformat_minor": 2
}
